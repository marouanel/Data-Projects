{
 "cells": [
  {
   "cell_type": "markdown",
   "metadata": {},
   "source": [
    "# Introduction\n",
    "\n",
    "My master thesis looked into service discovery recommendation system research based on data available at the programmable web [website](https://www.programmableweb.com/). \n",
    "\n",
    "In this notebook, I will share some of what I learned and use Latent Dirichlet Allocation and the Author Topic Model are implemented and the results were compared in terms of Mean Average Precision@N and Recall@N.\n",
    "\n",
    "!['Welcome APIs'](https://i.imgur.com/rPh0kkS.jpg)\n",
    "\n",
    "## Importing Libraries and Loading Data "
   ]
  },
  {
   "cell_type": "code",
   "execution_count": 1,
   "metadata": {},
   "outputs": [
    {
     "name": "stdout",
     "output_type": "stream",
     "text": [
      "Total Number of Mashups:  6962\n",
      "Total Number of Mashups:  1520\n"
     ]
    },
    {
     "data": {
      "text/html": [
       "<div>\n",
       "<style scoped>\n",
       "    .dataframe tbody tr th:only-of-type {\n",
       "        vertical-align: middle;\n",
       "    }\n",
       "\n",
       "    .dataframe tbody tr th {\n",
       "        vertical-align: top;\n",
       "    }\n",
       "\n",
       "    .dataframe thead th {\n",
       "        text-align: right;\n",
       "    }\n",
       "</style>\n",
       "<table border=\"1\" class=\"dataframe\">\n",
       "  <thead>\n",
       "    <tr style=\"text-align: right;\">\n",
       "      <th></th>\n",
       "      <th>Unnamed: 0</th>\n",
       "      <th>description</th>\n",
       "      <th>title</th>\n",
       "      <th>date</th>\n",
       "      <th>Related_APIs</th>\n",
       "      <th>Tags</th>\n",
       "    </tr>\n",
       "  </thead>\n",
       "  <tbody>\n",
       "    <tr>\n",
       "      <th>906</th>\n",
       "      <td>906</td>\n",
       "      <td>#API Christmas is the Nativity Story, remixed ...</td>\n",
       "      <td>#API Christmas</td>\n",
       "      <td>2012-12-20</td>\n",
       "      <td>['instagram-graph']</td>\n",
       "      <td>['aggregation', 'holidays', 'humor', 'social',...</td>\n",
       "    </tr>\n",
       "    <tr>\n",
       "      <th>2486</th>\n",
       "      <td>2486</td>\n",
       "      <td>#Ask4Stuff is a new, Twitter-based service tha...</td>\n",
       "      <td>#Ask4Stuff: WorldCat Twitter Search</td>\n",
       "      <td>2010-06-27</td>\n",
       "      <td>['twitter', 'worldcat-search']</td>\n",
       "      <td>['library', 'search', 'books']</td>\n",
       "    </tr>\n",
       "    <tr>\n",
       "      <th>610</th>\n",
       "      <td>610</td>\n",
       "      <td>To discover the most popular beer in over 1500...</td>\n",
       "      <td>#BeerMap - The Top 2,500 Beers on Twitter</td>\n",
       "      <td>2013-09-19</td>\n",
       "      <td>['google-maps', 'twitter', 'peekyou-social-ana...</td>\n",
       "      <td>['analytics', 'beer', 'humor']</td>\n",
       "    </tr>\n",
       "    <tr>\n",
       "      <th>2922</th>\n",
       "      <td>2922</td>\n",
       "      <td>Get some shiny stats about countries, cities a...</td>\n",
       "      <td>#LinS Stats on Your LinkedIn Social Graph</td>\n",
       "      <td>2009-11-27</td>\n",
       "      <td>['google-chart', 'linkedin']</td>\n",
       "      <td>['social', 'statistics', 'social', 'enterprise']</td>\n",
       "    </tr>\n",
       "    <tr>\n",
       "      <th>577</th>\n",
       "      <td>577</td>\n",
       "      <td>The #S42AT project lets you bookmark links you...</td>\n",
       "      <td>#S42AT</td>\n",
       "      <td>2013-11-11</td>\n",
       "      <td>['facebook', 'twitter', 'instagram-graph', 'go...</td>\n",
       "      <td>['bookmarks', 'tools', 'tweets']</td>\n",
       "    </tr>\n",
       "  </tbody>\n",
       "</table>\n",
       "</div>"
      ],
      "text/plain": [
       "      Unnamed: 0                                        description  \\\n",
       "906          906  #API Christmas is the Nativity Story, remixed ...   \n",
       "2486        2486  #Ask4Stuff is a new, Twitter-based service tha...   \n",
       "610          610  To discover the most popular beer in over 1500...   \n",
       "2922        2922  Get some shiny stats about countries, cities a...   \n",
       "577          577  The #S42AT project lets you bookmark links you...   \n",
       "\n",
       "                                          title        date  \\\n",
       "906                              #API Christmas  2012-12-20   \n",
       "2486        #Ask4Stuff: WorldCat Twitter Search  2010-06-27   \n",
       "610   #BeerMap - The Top 2,500 Beers on Twitter  2013-09-19   \n",
       "2922  #LinS Stats on Your LinkedIn Social Graph  2009-11-27   \n",
       "577                                      #S42AT  2013-11-11   \n",
       "\n",
       "                                           Related_APIs  \\\n",
       "906                                 ['instagram-graph']   \n",
       "2486                     ['twitter', 'worldcat-search']   \n",
       "610   ['google-maps', 'twitter', 'peekyou-social-ana...   \n",
       "2922                       ['google-chart', 'linkedin']   \n",
       "577   ['facebook', 'twitter', 'instagram-graph', 'go...   \n",
       "\n",
       "                                                   Tags  \n",
       "906   ['aggregation', 'holidays', 'humor', 'social',...  \n",
       "2486                     ['library', 'search', 'books']  \n",
       "610                      ['analytics', 'beer', 'humor']  \n",
       "2922   ['social', 'statistics', 'social', 'enterprise']  \n",
       "577                    ['bookmarks', 'tools', 'tweets']  "
      ]
     },
     "execution_count": 1,
     "metadata": {},
     "output_type": "execute_result"
    }
   ],
   "source": [
    "import numpy as np\n",
    "import pandas as pd\n",
    "import re\n",
    "from collections import  Counter\n",
    "import ml_metrics as metrics\n",
    "from nltk.corpus import stopwords\n",
    "from nltk.stem.porter import PorterStemmer\n",
    "\n",
    "#Mashup Data \n",
    "mdata = pd.read_csv(\"data/mashups_2k18.csv\",sep='\\t',encoding='utf-8')\n",
    "#list of unique APIs\n",
    "u_apis= pd.read_csv(\"data/unique_apis.csv\",sep='\\t',encoding='utf-8')\n",
    "mdata.sort_values('title',inplace=True)\n",
    "u_apis.sort_values('api_name',inplace=True)\n",
    "print('Total Number of Mashups: ', mdata.shape[0])\n",
    "print('Total Number of Mashups: ', u_apis.shape[0])\n",
    "\n",
    "mdata.head()\n"
   ]
  },
  {
   "cell_type": "markdown",
   "metadata": {},
   "source": [
    "## Data Pre-processing\n",
    "\n",
    "As machine learning models can not deal with raw text data, a set of pre- processing steps is needed to give a meaningful representation of the text. The text is transformed to a Bag-of-Words representation which assigns a unique number to every word in the vocabulary, this way any document can be represented as a vector of length $\\vert V\\vert$ the number of unique words in the vocabulary. Each cell in the vector contains the count of the word in the document. \n",
    "This can be done by assigning each word a unique number. Then any document we see can be encoded as a fixed-length vector with the length of the vocabulary of known words. The value in each position in the vector could be filled with a count or frequency of each word in the encoded document.\n",
    "\n",
    "A high number of words generally translates into more computation and sparsity in the bag of word model, meaning that words should be carefully selected from the vocabulary and words that do not add meaning to the machine learning model should be dropped. The pre-processing steps follow the general guidelines of working with text in the Nature Language Processing field and the reviewed work on service discovery RS:\n",
    "\n",
    "####  Tokenization: dividing a stream of text into a sequence of words according to a delimiter (space in this case)\n",
    "#### Pruning: Removing words that do not add meaning to the sentence, also known as stop-words removal, a list of stopwords was taken from the Natural Language Toolkit (nltk) python library to this end\n",
    "##### item Stemming: Stripping words from suffixes and/or prefixes to get to the word stem/root. This way word like 'map','mapping' and 'maps' would be counted as 'map' adding relevance for the model. The Porter Stemmer of the nltk library was used.\n",
    "#### Text Augmentation: Since Mashup and API titles and categories add meaning to the representation of a mashup, they are added to the description of the mashups.\n",
    "\n",
    "\n"
   ]
  },
  {
   "cell_type": "code",
   "execution_count": 2,
   "metadata": {},
   "outputs": [
    {
     "name": "stdout",
     "output_type": "stream",
     "text": [
      "Goodneighbor is a platform that allows you to define, run and manage Twitter avatars, totally autonomous Twitter identities that manage their own Twitter accounts, concerned with any subject matter and interested in any topic. \n",
      " After Pre-processing\n"
     ]
    },
    {
     "data": {
      "text/plain": [
       "'goodneighbor platform allow defin run manag twitter avatar total autonom twitter ident manag twitter account concern subject matter interest topic   artificial-intelligence    social     artificial-intelligence    social     artificial-intelligence    social   Goodneighbor'"
      ]
     },
     "execution_count": 2,
     "metadata": {},
     "output_type": "execute_result"
    }
   ],
   "source": [
    "#storing the mashup corpus as a list of words\n",
    "corpus_list=[]\n",
    "#storing the corpus as strings\n",
    "corpus_string = []\n",
    "#APIs related to each row of the mashup data\n",
    "rapis= []\n",
    "#storing the API corpus as strings\n",
    "corpus_api_string = []\n",
    "#storing the API corpus as a list of word_ids\n",
    "corpus_api_list = []\n",
    "#dictionary for mashup and its corespending APIs\n",
    "dict_mashup_apis = dict()\n",
    "#Number of times each API was used in a mashup\n",
    "api_count = []\n",
    "#calculating tag counts for EDA\n",
    "tag_count  = []\n",
    "#mashup_api matrice for EDA\n",
    "ma_matrice = np.zeros((mdata.shape[0],u_apis.shape[0]),dtype=int)\n",
    "\n",
    "\n",
    "for i in range(0, mdata.shape[0]):\n",
    "    \n",
    "    # get each related api seperatly\n",
    "    apis = list(filter(None,re.sub('[^\\w+\\d+-]',' ', mdata['Related_APIs'][i]).strip().split(' ')))\n",
    "    rapis.append(apis)\n",
    "    dict_mashup_apis[i] = []\n",
    "    \n",
    "    for a in apis:\n",
    "        dict_mashup_apis[i].append(a)\n",
    "        api_index = u_apis.loc[u_apis['api_name']==a].index\n",
    "        ma_matrice[i][api_index]= ma_matrice[i][api_index] + 1\n",
    "        \n",
    "    api_count.extend(apis)\n",
    "    \n",
    "    #Extract Description and tags while removing special characters \n",
    "    review = re.sub('[^a-zA-Z-\\d+]', ' ', mdata['description'][i])\n",
    "    tags =  re.sub('[^a-zA-Z-\\d+]',' ',mdata['Tags'][i])\n",
    "    tag_count.extend(tags.split())\n",
    "    review = review.lower()  \n",
    "    review = review.split()\n",
    "    #Changing each word to stem form\n",
    "    ps = PorterStemmer()\n",
    "    stopwords_ = list(set(stopwords.words('english')))\n",
    "    stopwords_.append('mashup')\n",
    "    review = [ps.stem(word) for word in review if not word in set(stopwords_)]\n",
    "    #adding the tags 3 times and the title of the mashup to the mashup description \n",
    "    for j in range(3):\n",
    "        review.append(tags)\n",
    "\n",
    "    review.append(mdata['title'][i])\n",
    "    corpus_list.append(review)\n",
    "    review = ' '.join(review)\n",
    "    corpus_string.append(review)\n",
    "    \n",
    "\n",
    "print(mdata['description'][10],'\\n After Pre-processing')\n",
    "corpus_string[10]\n"
   ]
  },
  {
   "cell_type": "markdown",
   "metadata": {},
   "source": [
    "So far we have tokenized and stemed the mashup and APIs description, and mapped each API (Parent) to its mashup (child).\n",
    "\n",
    "Now let's change api names and words to numerical IDs, and create our bag of word model"
   ]
  },
  {
   "cell_type": "code",
   "execution_count": 3,
   "metadata": {},
   "outputs": [],
   "source": [
    "\n",
    "\n",
    "# Changing API name to API ids\n",
    "unique_apis = list(u_apis['api_name'])\n",
    "api_id_dict = dict(zip(unique_apis, range(len(unique_apis))))\n",
    "api_id_dict_reverse = dict(zip( range(len(unique_apis)),unique_apis))\n",
    "\n",
    "#Create dictionary of Mashups and Related APIs IDs\n",
    "for mash, rapi in dict_mashup_apis.items():\n",
    "    for i, api_id in enumerate(rapi):\n",
    "        \n",
    "        dict_mashup_apis[mash][i] = api_id_dict[api_id]\n",
    "\n",
    "# Let's create the bag of word model\n",
    "from sklearn.feature_extraction.text import CountVectorizer\n",
    "cv = CountVectorizer(min_df=5,max_df=0.8,stop_words='english')\n",
    "L = cv.fit_transform(corpus_string + corpus_api_string).toarray()\n",
    "features = cv.get_feature_names()\n",
    "\n",
    " \n"
   ]
  },
  {
   "cell_type": "code",
   "execution_count": 4,
   "metadata": {},
   "outputs": [],
   "source": [
    "#Now let's encode the corpus with only the features extracted from the count vectorizer and create appropriate word dict\n",
    "corpus_encoded = []\n",
    "word_id_dict = dict(zip(features, range(len(features))))\n",
    "word_id_dict_reverse = dict(zip( range(len(features)),features))\n",
    "corpus_encoded = []\n",
    "for each in corpus_list:\n",
    "    words_encoded = []\n",
    "    for e in each:\n",
    "        if(e in word_id_dict):\n",
    "            words_encoded.append(word_id_dict[e])\n",
    "    corpus_encoded.append(words_encoded)\n"
   ]
  },
  {
   "cell_type": "markdown",
   "metadata": {},
   "source": [
    "# EDA \n",
    "\n",
    "## What APIs are used the most for creating Mashups?\n",
    "\n",
    "The first graph plots the API use count, and we can clearly see that very few APIs are responsible for most mashups. Leading the pack is 'google-maps' with more than 2300 mashup to its count, followed by Twitter that has more than 750 mashup.\n",
    "On the other hand, the top 40 - 50 APIs are only used to create around 40 mashups\n",
    "\n",
    "\n",
    "\n"
   ]
  },
  {
   "cell_type": "code",
   "execution_count": 5,
   "metadata": {
    "scrolled": true
   },
   "outputs": [
    {
     "data": {
      "image/png": "[encoded data removed]",
      "text/plain": [
       "<Figure size 1584x576 with 1 Axes>"
      ]
     },
     "metadata": {},
     "output_type": "display_data"
    }
   ],
   "source": [
    "from collections import Counter\n",
    "import seaborn as sns\n",
    "import matplotlib.pyplot as plt\n",
    "from matplotlib import pyplot\n",
    "%matplotlib inline\n",
    "\n",
    "counter2 = Counter(api_count)\n",
    "eda_apis =  pd.DataFrame.from_dict(counter2, orient='Index').reset_index()\n",
    "eda_apis.columns = ['api','count']\n",
    "f_apid = lambda x : api_id_dict[x]\n",
    "eda_apis['id'] = eda_apis['api'].apply(f_apid)\n",
    "eda_apis.sort_values('count',ascending=False,inplace=True)\n",
    "top_50_apis = eda_apis[[\"count\",'api']][:50].copy()\n",
    "\n",
    "\n",
    "plt.subplots(figsize=(22, 8))\n",
    "plt.xticks(rotation=90)\n",
    "sns.barplot(x='api', y=\"count\", data=top_50_apis, palette=\"vlag\").set_title(\"50 Most Used APIs\")\n",
    "plt.show()\n",
    "\n",
    "\n",
    "\n",
    "\n"
   ]
  },
  {
   "cell_type": "code",
   "execution_count": 6,
   "metadata": {},
   "outputs": [
    {
     "data": {
      "text/html": [
       "<div>\n",
       "<style scoped>\n",
       "    .dataframe tbody tr th:only-of-type {\n",
       "        vertical-align: middle;\n",
       "    }\n",
       "\n",
       "    .dataframe tbody tr th {\n",
       "        vertical-align: top;\n",
       "    }\n",
       "\n",
       "    .dataframe thead th {\n",
       "        text-align: right;\n",
       "    }\n",
       "</style>\n",
       "<table border=\"1\" class=\"dataframe\">\n",
       "  <thead>\n",
       "    <tr style=\"text-align: right;\">\n",
       "      <th></th>\n",
       "      <th>count</th>\n",
       "      <th>api</th>\n",
       "    </tr>\n",
       "  </thead>\n",
       "  <tbody>\n",
       "    <tr>\n",
       "      <th>241</th>\n",
       "      <td>50</td>\n",
       "      <td>freebase</td>\n",
       "    </tr>\n",
       "    <tr>\n",
       "      <th>359</th>\n",
       "      <td>48</td>\n",
       "      <td>panoramio</td>\n",
       "    </tr>\n",
       "    <tr>\n",
       "      <th>83</th>\n",
       "      <td>47</td>\n",
       "      <td>eventful</td>\n",
       "    </tr>\n",
       "    <tr>\n",
       "      <th>341</th>\n",
       "      <td>44</td>\n",
       "      <td>facebook-graph</td>\n",
       "    </tr>\n",
       "    <tr>\n",
       "      <th>192</th>\n",
       "      <td>44</td>\n",
       "      <td>google-calendar</td>\n",
       "    </tr>\n",
       "    <tr>\n",
       "      <th>447</th>\n",
       "      <td>43</td>\n",
       "      <td>google-earth</td>\n",
       "    </tr>\n",
       "    <tr>\n",
       "      <th>279</th>\n",
       "      <td>43</td>\n",
       "      <td>salesforcecom</td>\n",
       "    </tr>\n",
       "    <tr>\n",
       "      <th>302</th>\n",
       "      <td>42</td>\n",
       "      <td>google-translate</td>\n",
       "    </tr>\n",
       "    <tr>\n",
       "      <th>53</th>\n",
       "      <td>41</td>\n",
       "      <td>indeed</td>\n",
       "    </tr>\n",
       "    <tr>\n",
       "      <th>555</th>\n",
       "      <td>40</td>\n",
       "      <td>google-maps-flash</td>\n",
       "    </tr>\n",
       "  </tbody>\n",
       "</table>\n",
       "</div>"
      ],
      "text/plain": [
       "     count                api\n",
       "241     50           freebase\n",
       "359     48          panoramio\n",
       "83      47           eventful\n",
       "341     44     facebook-graph\n",
       "192     44    google-calendar\n",
       "447     43       google-earth\n",
       "279     43      salesforcecom\n",
       "302     42   google-translate\n",
       "53      41             indeed\n",
       "555     40  google-maps-flash"
      ]
     },
     "execution_count": 6,
     "metadata": {},
     "output_type": "execute_result"
    }
   ],
   "source": [
    "top_50_apis.tail(10)"
   ]
  },
  {
   "cell_type": "markdown",
   "metadata": {},
   "source": [
    "# What are the most popular Tags ?\n",
    "\n",
    "We can see from the graph that the tag distribution is similar to that of APIs (few tags present with most mashups) \n",
    "It is normal to see such distribution since the APIs used with a mashup influence the possible functionalities of the mashup (hence tags as well)\n"
   ]
  },
  {
   "cell_type": "code",
   "execution_count": null,
   "metadata": {},
   "outputs": [
    {
     "data": {
      "image/png": "[encoded data removed]",
      "text/plain": [
       "<Figure size 1584x576 with 1 Axes>"
      ]
     },
     "metadata": {},
     "output_type": "display_data"
    }
   ],
   "source": [
    "counter = Counter(tag_count)\n",
    "tag_count_result= list(counter.most_common())\n",
    "eda_tags = pd.DataFrame.from_dict(counter, orient='Index').reset_index()\n",
    "eda_tags.columns = ['tag','count']\n",
    "eda_tags.sort_values('count',ascending=False,inplace=True)\n",
    "top_50_tags = eda_tags[[\"count\",'tag']][:50].copy()\n",
    "\n",
    "\n",
    "plt.subplots(figsize=(22, 8))\n",
    "plt.xticks(rotation=90)\n",
    "sns.barplot(x='tag', y=\"count\", data=top_50_tags, palette=\"vlag\").set_title(\"50 Most Used Tags\")\n",
    "plt.show()"
   ]
  },
  {
   "cell_type": "markdown",
   "metadata": {},
   "source": [
    "#  The API - Mashup Matrix\n",
    "\n",
    "Now let's have a look at the mashups and the APIs they use\n",
    "\n",
    "Horizantal lines indicate that an API has been used to create a lot of mashups\n"
   ]
  },
  {
   "cell_type": "code",
   "execution_count": null,
   "metadata": {},
   "outputs": [],
   "source": [
    "df = pd.DataFrame(ma_matrice.T,columns=mdata['title'].values)\n",
    "df.index = u_apis['api_name'].values\n",
    "\n",
    "plt.figure(figsize=(20,8))\n",
    "ax = sns.heatmap(df,vmin=0, vmax=1,cmap='rocket' )\n",
    "ax.set_xlabel(xlabel='Mashups', fontsize=16)\n",
    "ax.set_ylabel(ylabel='APIs', fontsize=16)\n",
    "ax.set_title(label='API invocation Matrix', fontsize=20)\n",
    "plt.show()\n",
    "\n",
    "\n",
    "# (10, 27)"
   ]
  },
  {
   "cell_type": "markdown",
   "metadata": {},
   "source": [
    "# How many APIs occur together in mashups ?\n",
    "\n",
    "Let's have a look at the co-occurance of APIs, to do that we take the dot product of the mashup API matrix with its inverse (transpose)\n",
    "\n",
    "We can clearly see that the matrix is very sparse (a lot of 0s, thus the dark color)\n",
    "the horizontal/vertical colored line indicate that it is a popular API and that it has been used a lot for creating mashups\n",
    "\n",
    "The white (light) dotes in the graph indicate that a pair of APIs has been used a lot together (at least 5 times)"
   ]
  },
  {
   "cell_type": "code",
   "execution_count": null,
   "metadata": {},
   "outputs": [],
   "source": [
    "import numpy as np\n",
    "#calculating API co occurences\n",
    "#A = np.dot(ma_matrice.transpose(),ma_matrice)\n",
    "#df = pd.DataFrame(A,columns = u_apis['api_name'].values)\n",
    "#df.set_index(u_apis['api_name'].values,inplace=True)\n",
    "#df.to_csv('data/api_coocu.csv', sep='\\t', encoding='utf-8')\n",
    "#df.head()\n",
    "\n",
    "\n",
    "#API Co occurence matrice - To avoid a long processing time,\n",
    "#I will load the API co occurence matrice from a file\n",
    "A = pd.read_csv(\"data/api_coocu.csv\",sep='\\t',encoding='utf-8').drop('Unnamed: 0',axis=1)\n",
    "A.set_index(u_apis['api_name'].values,inplace=True)\n",
    "A.head()\n"
   ]
  },
  {
   "cell_type": "code",
   "execution_count": null,
   "metadata": {
    "scrolled": false
   },
   "outputs": [],
   "source": [
    "plt.figure(figsize=(20,15))\n",
    "ax = sns.heatmap(A,vmin=0, vmax=5,cmap='vlag' )\n",
    "ax.set_xlabel(xlabel='APIs', fontsize=16)\n",
    "ax.set_ylabel(ylabel='APIs', fontsize=16)\n",
    "ax.set_title(label='API co-occurence Matrix', fontsize=20)\n",
    "plt.show()\n"
   ]
  },
  {
   "cell_type": "markdown",
   "metadata": {},
   "source": [
    "# Recomendation Approach (Author Topic Model) \n",
    "\n",
    "The Programmable Web API recommendation problem can be defined as follow:\n",
    "Given a list of Mashups and and their component APIs descriptions, build a recommender that returns a ranked list of APIs that would satisfy the user query. For the sake of off-line evaluation, the user query is represented by unseen mashup descriptions and categories\n",
    "\n",
    "## Graphical explanation of the recomendation process\n",
    "\n",
    "If you compare the description of the mashup Holidayen and its component service Flickr API in the picture below, you quickly notice that there is not much in common in their respective descriptions and that’s because each one serves a different function.\n",
    "![Mashup_Api_Comparaison](img/macomp.png)\n",
    "Holidayen helps users with planning their holidays and Flickr API provides access to photos from the Flickr platform using different feeds. To a mashup creator, it is clear that Flickr was used to provide adequate pictures for different locations and make the user experience pleasant, though this relation can not be captured by the service description because the API provider does not have to provide information about all the potential use cases of its services. The mashup descriptions on the other hand are more likely to give insight of the potential use cases of an API because they link the service Flickr to the ‘Travel’ use case in this example. \n",
    "\n",
    "\n",
    "Starting from this observation, the authors of [the reconstructed service profile paper](https://ieeexplore.ieee.org/document/7763869/) devised a way to build new API service description based on the description of the mashups that invoked said APIs. To put it more in context, let’s use the Holidayen example, the words used to describe the mashup can be attributed to each related API as shown in the figure below. Doing the stated operation for every mashup gives a new set of words to describe the APIs that better captures the relationship between the APIs and their use cases. The attribution of words from mashups to APIs is done using a generative probabilistic approach called The Author Topic model. \n",
    "![RSP](img/rsp.png)\n",
    "\n"
   ]
  },
  {
   "cell_type": "markdown",
   "metadata": {},
   "source": [
    "\n",
    "\n",
    "\n",
    "\n",
    "The [author topic model model](https://arxiv.org/abs/1207.4169) was first introduced to explore the relationships between authors, documents, topics, and words in a collection of academics papers and paper abstracts. The author topic model views each words in a document as the manifestation of one of the authors’ interest (topics). According to the Author Topic Model,  to create each word w in a document d, an author is chosen at random from the uniform distribution of authors over document, and a word is picked from a topic distribution specific to that author. Accordingly, each author is associated with a multinomial distribution over topics, each topic is associated with a multinomial distribution over words,  and each word is associated with an author and a topic assignment. The topic distribution of a document is then a mixture of topic assignments of the author of the documents.\n",
    "\n",
    "\n",
    "If each document was written by a unique author, then the author assignment becomes trivial, meaning that topics are determined by documents which is the same as using LDA model. \n",
    "Latent Dirichlet Allocation (LDA) is a generative statistical model that treats each document as a mixture of distinct topics (clusters of words) that are responsible for the appearance of each word in the document with a certain probability. The generative process to create mashups using LDA and the graph notation of LDA is presented below:\n",
    "\n",
    "![LDA_Plate](img/LDA.png)\n",
    "\n",
    "\n",
    "In the mashup service discovery context, we can think of APIs as being authors of mashup descriptions.  Each word in the description can then be attributed to one of the API’s topic assignment. the figure below depicts the plate notation of the generative process to mashup words creation with the author-topic model. \n",
    "The generative process to create mashups works as follows:\n",
    "\n",
    "![ATM Plate](img/atm.png)\n",
    "\n",
    "However; the recommendation approach I am using here is only needs the author assignment of the Author Topic Model, we use to calculate the following conditional probability. The probability can be seen as wether an API (s for Service) will satisfy a user if he inputs a word (w) in his query\n",
    "\n",
    "\\begin{equation} \n",
    "\\label{eq:psw} p(s|w)=\\frac {\\text {RP}(s,w)}{\\sum _{k}\\text {RP}(k,w)}.\n",
    "\\end{equation} \n",
    "\n",
    "Once the relevance between services and words is calculated, the query relevance score can be defined as follow:\n",
    "\n",
    "\\begin{equation} r(s,Q)=\\sum \\limits _{w\\in Q}p(s|w). \\end{equation} \n",
    "\n",
    "\n",
    "\n",
    "\n",
    "To account for the popularity of APIs, a list of dominant words is generated by looking at the co-occurrences of service - word pairs . Basically, if a word in the reconstructed profiles is overwhelmingly associated with a service $p(s\\vert w) ~=1$, the services and the words are associated and added to a dominant words list. If a dominant word is present in the user query, then its corresponding service score is boosted by adding the length of the query to the final relevance score. The authors [the reconstructed service profile paper](https://ieeexplore.ieee.org/document/7763869/) propose two simple rules to identify dominant words.\n",
    "\n",
    "     p(s|w) > g where g is a constant between 0 and 1\n",
    "     RP(s,w) > h where h is constant positive integer\n",
    "\n"
   ]
  },
  {
   "cell_type": "markdown",
   "metadata": {},
   "source": [
    "### Functions for calculating relevance score"
   ]
  },
  {
   "cell_type": "code",
   "execution_count": null,
   "metadata": {},
   "outputs": [],
   "source": [
    "dominant_words = dict()\n",
    "def rspsim(word,api,z,l):\n",
    "\n",
    "    dist = (rsp[api][word])/z\n",
    "    if(rsp[api][word] / z > 0.3 and rsp[api][word]>0.5):\n",
    "        dist = (rsp[api][word]/z)+ l \n",
    "        if(word in dominant_words):\n",
    "            if(not (api in dominant_words[word])):\n",
    "                dominant_words[word].append(api)\n",
    "        else:\n",
    "            dominant_words[word]=[]\n",
    "            dominant_words[word].append(api)\n",
    "    \n",
    "    return  dist\n",
    "\n",
    "\n",
    "\n",
    "def get_rspsims(words,top_n=20):\n",
    "    ranked_list = np.zeros(len(unique_apis),dtype='float')\n",
    "    l = len(words)\n",
    "    for word in words:\n",
    "        \n",
    "        z = np.sum(rsp[:,word])\n",
    "        \n",
    "        if(z > 0):\n",
    "            sims = np.array([rspsim(word,api_id_dict[api],z,l) for api in unique_apis ])\n",
    "        else:\n",
    "            sims = np.zeros(len(unique_apis))\n",
    "        ranked_list = ranked_list + sims\n",
    "    \n",
    "    \n",
    "    df = pd.DataFrame(list(zip(unique_apis, list(ranked_list))), columns=['Author', 'Score'])\n",
    "    return df\n",
    "\n",
    "\n",
    "def recall(actual, predicted):\n",
    "    la = len(actual)\n",
    "    r = []\n",
    "\n",
    "    for i in range(len(predicted)):\n",
    "        tp = [doc for doc in predicted[:i+1] if doc in actual]\n",
    "        r.append(len(tp) * 1.0 / la)\n",
    "\n",
    "    return r\n"
   ]
  },
  {
   "cell_type": "markdown",
   "metadata": {},
   "source": [
    "### Building Train and Test Set"
   ]
  },
  {
   "cell_type": "code",
   "execution_count": null,
   "metadata": {},
   "outputs": [],
   "source": [
    "rsp = np.zeros([len(unique_apis),len(features)])\n",
    "rsp_dict = dict()\n",
    "for each in unique_apis:\n",
    "    rsp_dict[each] = []\n",
    "\n",
    "\n",
    "            \n",
    "            \n",
    "most_common_5 = ['google-maps', 'twitter', 'youtube', 'flickr','facebook']\n",
    "                  #,'amazon-product-advertising', 'twilio','lastfm', 'ebay', 'twilio-sms', 'google-search', 'microsoft-bing-maps', \n",
    "                  #'delicious-0', 'google-ajax-search', 'foursquare', 'google-app-engine', \n",
    "                  #'google-homepage', 'yahoo-search', 'docusign-enterprise', 'yahoo-maps']\n",
    "\n",
    "\n",
    "from sklearn.model_selection import train_test_split\n",
    "X_Train, X_Test, Y_Train, Y_Test,dict_train,dict_test = train_test_split(corpus_encoded, rapis,dict_mashup_apis, test_size = 0.2, random_state = 0)\n",
    "\n",
    "print('Size of train records:', len(X_Train))\n",
    "print('Size of test records:', len(X_Test))\n",
    " \n"
   ]
  },
  {
   "cell_type": "markdown",
   "metadata": {},
   "source": [
    "### Running the Author Topic Model\n",
    " may take some time"
   ]
  },
  {
   "cell_type": "code",
   "execution_count": null,
   "metadata": {},
   "outputs": [],
   "source": [
    "n_doc = len(X_Train)\n",
    "n_topic = 50\n",
    "n_author = len(unique_apis)\n",
    "n_voca = len(features)\n",
    "max_iter = 50\n",
    "from original import AuthorTopicModel\n",
    "model = AuthorTopicModel(n_doc, n_voca, n_topic, n_author,alpha = 1, beta=0.01)\n",
    "model.fit(X_Train, dict_train, max_iter=max_iter)"
   ]
  },
  {
   "cell_type": "markdown",
   "metadata": {},
   "source": [
    "### Building Reconstructed  API description "
   ]
  },
  {
   "cell_type": "code",
   "execution_count": null,
   "metadata": {},
   "outputs": [],
   "source": [
    "\n",
    "authors_assignment = model.author_assigned\n",
    "   \n",
    "#Building the Reconstructed Service Profile from the author assignment\n",
    "for i in range(len(X_Train)):\n",
    "    for j in range(len(X_Train[i])):\n",
    "        rsp[authors_assignment[i][j]][X_Train[i][j]] = rsp[authors_assignment[i][j]][X_Train[i][j]] + 1\n",
    "        if(not word_id_dict_reverse[X_Train[i][j]] in rsp_dict[api_id_dict_reverse[authors_assignment[i][j]]]):\n",
    "            rsp_dict[api_id_dict_reverse[authors_assignment[i][j]]].append(word_id_dict_reverse[X_Train[i][j]])\n",
    "        \n"
   ]
  },
  {
   "cell_type": "markdown",
   "metadata": {},
   "source": [
    "### Getting the predictions"
   ]
  },
  {
   "cell_type": "code",
   "execution_count": null,
   "metadata": {},
   "outputs": [],
   "source": [
    "pred_most_common =[]\n",
    "pred_atm_dw = []\n",
    "lists = []\n",
    "for test in X_Test:\n",
    "    pred_most_common.append(most_common_5)\n",
    "    df1= get_rspsims(test,5)      \n",
    "    df = df1.sort_values('Score', ascending=False)[:5]\n",
    "    pred_atm_dw.append(list(df['Author'].values))\n"
   ]
  },
  {
   "cell_type": "markdown",
   "metadata": {},
   "source": [
    "### Result Evaluation MAP@5 and Recall@5\n",
    "\n",
    "The most common apis is a good comparaison baseline as the most common APIs account for most of the API invocations. \n",
    "\n",
    "We see that the reconstructed profile approach is outperforming the baseline ^^"
   ]
  },
  {
   "cell_type": "code",
   "execution_count": null,
   "metadata": {},
   "outputs": [],
   "source": [
    "results_map_most_common = (metrics.mapk(Y_Test,pred_most_common,5))\n",
    "results_map_atm_dw = (metrics.mapk(Y_Test,pred_atm_dw,5))\n",
    "\n",
    "results_recall_atm_dw = np.mean([recall(a,p) for (a,p) in zip(Y_Test,pred_atm_dw)] )\n",
    "results_recall_most_common = np.mean([recall(a,p) for (a,p) in zip(Y_Test,pred_most_common)] )\n",
    "\n",
    "results_df= pd.DataFrame([[results_map_atm_dw,results_map_most_common],\n",
    "                          [results_recall_atm_dw,results_recall_most_common]]\n",
    "                         ,columns=['RSP','Most_Common'])\n",
    "results_df.index = ['MAP@5','R@5']\n",
    "\n",
    "results_df.plot(kind='bar',rot=0)\n",
    "\n",
    "results_df.head()"
   ]
  },
  {
   "cell_type": "markdown",
   "metadata": {},
   "source": [
    "### Let's have a look at the new descrption of APIs"
   ]
  },
  {
   "cell_type": "code",
   "execution_count": null,
   "metadata": {},
   "outputs": [],
   "source": [
    "keys  = []\n",
    "values = []\n",
    "for key,value in rsp_dict.items():\n",
    "    if(value!=[]):\n",
    "        keys.append(key)\n",
    "        values.append(' '.join(value))\n",
    "\n",
    "rsp_df= pd.DataFrame(keys,columns=['API'])\n",
    "rsp_df['rsp_description'] = values\n",
    "rsp_df.head(100)"
   ]
  },
  {
   "cell_type": "markdown",
   "metadata": {},
   "source": [
    "# Thank you for following \n",
    "\n",
    "I hope this was helpful, feel free to get in contact for more information and please share any suggestions/comments you have ^^\n",
    "\n",
    "#### Sources\n",
    "\n",
    "The author topic model implementation was found in this [git](https://github.com/dongwookim-ml/python-topic-model)"
   ]
  }
 ],
 "metadata": {
  "kernelspec": {
   "display_name": "Python 3",
   "language": "python",
   "name": "python3"
  },
  "language_info": {
   "codemirror_mode": {
    "name": "ipython",
    "version": 3
   },
   "file_extension": ".py",
   "mimetype": "text/x-python",
   "name": "python",
   "nbconvert_exporter": "python",
   "pygments_lexer": "ipython3",
   "version": "3.6.4"
  }
 },
 "nbformat": 4,
 "nbformat_minor": 2
}
